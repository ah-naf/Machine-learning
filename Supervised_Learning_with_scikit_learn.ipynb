{
  "nbformat": 4,
  "nbformat_minor": 0,
  "metadata": {
    "colab": {
      "provenance": []
    },
    "kernelspec": {
      "name": "python3",
      "display_name": "Python 3"
    },
    "language_info": {
      "name": "python"
    }
  },
  "cells": [
    {
      "cell_type": "code",
      "execution_count": null,
      "metadata": {
        "id": "ru5slheSamet"
      },
      "outputs": [],
      "source": [
        "# Scikit-learn syntax\n",
        "from sklearn.module import Model\n",
        "model = Model()\n",
        "model.fit(X, y)\n",
        "predictions = model.predict(X_new)"
      ]
    },
    {
      "cell_type": "markdown",
      "source": [
        "**Classifying labels of unseen data**\n",
        "1. Build a model\n",
        "2. Model learns from the labeled data we pass it\n",
        "3. Pass unlabeled data to the the model as input\n",
        "4. Model predicts the labels of unseen data\n",
        "\n",
        "**Label Data = Training Data**\n"
      ],
      "metadata": {
        "id": "80SPzLd9bN_4"
      }
    },
    {
      "cell_type": "markdown",
      "source": [
        "# **k-Nearest Neighbors**\n",
        "- Predict the label of a data point by\n",
        "  - Looking at the k closest labeled data points\n",
        "  - Taking a majority vote"
      ],
      "metadata": {
        "id": "NNcZp_Mogx-h"
      }
    },
    {
      "cell_type": "code",
      "source": [
        "# Using scikit-learn to fit a classifier\n",
        "from sklearn.neighbors import KNeighborsClassifier\n",
        "X = churn_df[[\"total_day_charge\", \"total_eve_charge\"]].values\n",
        "y = churn_df[\"churn\"].values\n",
        "\n",
        "knn = KNeighborsClassifier(n_neighbors=15)\n",
        "knn.fit(X, y)\n",
        "\n",
        "X_new = np.array([[56.8, 17.5],\n",
        "                  [24.4, 24.1],\n",
        "                  [50.1, 10.9]])\n",
        "\n",
        "preditions = knn.predict(X_new)"
      ],
      "metadata": {
        "id": "r7latrFEbJ6H"
      },
      "execution_count": null,
      "outputs": []
    },
    {
      "cell_type": "markdown",
      "source": [
        "1. Split the data in test and training set.\n",
        "2. Fit/Train classifier on training set.\n",
        "3. Calculate accuracy using test set"
      ],
      "metadata": {
        "id": "balLl3R8kRI7"
      }
    },
    {
      "cell_type": "code",
      "source": [
        "# Train/test split\n",
        "from sklearn.model_selection import train_test_split\n",
        "X_train, X_test, y_train, y_test = train_test_split(X, y, test_size=0.3, random_state=21, stratify=y)\n",
        "\n",
        "knn = KNeighborsClassifier(n_neighbors=6)\n",
        "knn.fit(X_train, y_train)\n",
        "\n",
        "# Print the accuracy of the model\n",
        "print(knn.score(X_test, y_test))"
      ],
      "metadata": {
        "id": "zqEngRy4kOSx"
      },
      "execution_count": null,
      "outputs": []
    },
    {
      "cell_type": "markdown",
      "source": [
        "**Model Complexity**\n",
        "- Larger k = less complex model = can cause underfitting\n",
        "- Smaller k = more complex model = can lead to overfitting"
      ],
      "metadata": {
        "id": "M334pfsahQIy"
      }
    },
    {
      "cell_type": "markdown",
      "source": [
        "# **Linear Regression**"
      ],
      "metadata": {
        "id": "y0WhIzkYlDkM"
      }
    },
    {
      "cell_type": "code",
      "source": [
        "from sklearn.model_selection import train_test_split\n",
        "from sklearn.linear_model import LinearRegression\n",
        "\n",
        "X_train, X_test, y_train, y_test = train_test_split(X, y, test_size=0.3, random_state=21, stratify=y)\n",
        "\n",
        "reg = LinearRegression()\n",
        "reg.fit(X_train, y_train)\n",
        "y_pred = reg.predict(X_test)\n",
        "\n",
        "# R-squared in scikit-learn\n",
        "print(reg.score(X_test, y_test))\n",
        "\n",
        "# RMSE(Root Mean Squared Error) in scikit-learn\n",
        "from sklearn.metrics import mean_squared_error\n",
        "print(mean_squared_error(y_test, y_pred, squared=False))"
      ],
      "metadata": {
        "id": "FGOPz-gWhjNm"
      },
      "execution_count": null,
      "outputs": []
    },
    {
      "cell_type": "markdown",
      "source": [
        "# **Cross Validation**\n",
        "\n",
        "Cross validation is a technique used in machine learning to evaluate the performance of a model on unseen data. It involves dividing the available data into multiple folds or subsets, using one of these folds as a validation set, and training the model on the remaining folds. This process is repeated multiple times, each time using a different fold as the validation set. Finally, the results from each validation step are averaged to produce a more robust estimate of the model’s performance.\n",
        "\n",
        "The main purpose of cross validation is to prevent overfitting, which occurs when a model is trained too well on the training data and performs poorly on new, unseen data. By evaluating the model on multiple validation sets, cross validation provides a more realistic estimate of the model’s generalization performance, i.e., its ability to perform well on new, unseen data.\n",
        "\n",
        "- 5 folds = 5-fold CV\n",
        "- 10 folds = 10-fold CV\n",
        "- k folds = k-fold CV\n",
        "- More folds = More computatinlally expensive"
      ],
      "metadata": {
        "id": "hExZ0DNvnPZv"
      }
    },
    {
      "cell_type": "code",
      "source": [
        "from sklearn.model_selection import cross_val_score, KFold\n",
        "\n",
        "kf = KFold(n_splits=6, shuffle=True, random_state=42)\n",
        "reg = LinearRegression()\n",
        "cv_results = cross_val_score(reg, X, y, cv=kf)"
      ],
      "metadata": {
        "id": "aBNOAgZhnXtb"
      },
      "execution_count": null,
      "outputs": []
    },
    {
      "cell_type": "markdown",
      "source": [
        "**Regularization**\n",
        "- Linear Regression minimizes a loss function\n",
        "- It chooses a coefficient 'a' for each feature variable, plus b\n",
        "- Large coefficients can lead to overfitting\n",
        "- Regularization: Penalize large coefficents"
      ],
      "metadata": {
        "id": "oKWG5QsIpZlR"
      }
    },
    {
      "cell_type": "code",
      "source": [
        "# Ridge Regression\n",
        "\n",
        "# a is numpy vector -> e.g: [1,2, 3,4]\n",
        "# Loss function = loss function + alpha * sum(a**2)\n",
        "from sklearn.linear_model import Ridge\n",
        "\n",
        "scores = []\n",
        "\n",
        "for alpha in [0.1, 1.0, 10.0, 100.0, 1000.0]:\n",
        "  ridge = Ridge(alpha=alpha)\n",
        "  ridge.fit(X_train, y_train)\n",
        "  y_pred = ridge.predict(X_test)\n",
        "  scores.append(ridge.score(X_test, y_test))\n",
        "\n",
        "print(scores)\n",
        "\n",
        "\n",
        "# Lasso Regression\n",
        "\n",
        "# Loss function = loss function + alpha * sum(abs(a))\n",
        "from sklearn.linear_model import Lasso\n",
        "\n",
        "for alpha in [0.1, 1.0, 10.0, 100.0, 1000.0]:\n",
        "  lasso = Lasso(alpha=alpha)\n",
        "  lasso.fit(X_train, y_train)\n",
        "  y_pred = lasso.predict(X_test)\n",
        "  scores.append(lasso.score(X_test, y_test))\n",
        "\n",
        "print(scores)"
      ],
      "metadata": {
        "id": "W0MfTlQmp6gN"
      },
      "execution_count": null,
      "outputs": []
    },
    {
      "cell_type": "markdown",
      "source": [
        "**Lasso regression for feature selection**\n",
        "\n",
        "- Lasso can select important features of a dataset\n",
        "- Shrinks the coefficient of less important features to zero\n",
        "- Features not shrunk to zero are selected by lasso"
      ],
      "metadata": {
        "id": "gEuxlYm2p6KM"
      }
    },
    {
      "cell_type": "code",
      "source": [
        "from sklearn.linear_model import Lasso\n",
        "\n",
        "X = diabetes_df.drop('glucose', axis=1).values\n",
        "y = diabetes_df['glucose'].values\n",
        "\n",
        "names = diabetes_df.drop('glucose', axis=1).columns\n",
        "\n",
        "lasso = Lasso(alpha=0.1)\n",
        "lasso_coef = lasso.fit(X, y).coef_\n",
        "\n",
        "plt.bar(names, lasso_coef)\n",
        "plt.xticks(rotation=45)\n",
        "plt.show()"
      ],
      "metadata": {
        "id": "ndYFgmKLrgm4"
      },
      "execution_count": null,
      "outputs": []
    },
    {
      "cell_type": "markdown",
      "source": [
        "## **Confusion Matrix**\n",
        "\n",
        "It is a matrix of size 2×2 for binary classification with actual values on one axis and predicted on another.\n",
        "\n",
        "A machine learning model is trained to predict tumor in patients. The test dataset consists of 100 people.\n",
        "\n",
        "**True Positive (TP)** — model correctly predicts the positive class (prediction and actual both are positive). In the above example, 10 people who have tumors are predicted positively by the model.\n",
        "\n",
        "**True Negative (TN)** — model correctly predicts the negative class (prediction and actual both are negative). In the above example, 60 people who don’t have tumors are predicted negatively by the model.\n",
        "\n",
        "**False Positive (FP)** — model gives the wrong prediction of the negative class (predicted-positive, actual-negative). In the above example, 22 people are predicted as positive of having a tumor, although they don’t have a tumor. FP is also called a TYPE I error.\n",
        "\n",
        "**False Negative (FN)** — model wrongly predicts the positive class (predicted-negative, actual-positive). In the above example, 8 people who have tumors are predicted as negative. FN is also called a TYPE II error.\n",
        "\n",
        "With the help of these four values, we can calculate True Positive Rate (TPR), False Negative Rate (FPR), True Negative Rate (TNR), and False Negative Rate (FNR).\n",
        "\n",
        "\n",
        "$ TPR = \\frac{TP}{Actual Positive} = \\frac{TP}{TP + FN}$\n",
        "\n",
        "$ FNR = \\frac{FN}{Actual Positive} = \\frac{FN}{TP + FN}$\n",
        "\n",
        "$ TNR = \\frac{TN}{Actual Negative} = \\frac{TN}{TN + FP}$\n",
        "\n",
        "$ FPR = \\frac{FP}{Actual Negative} = \\frac{FP}{TN + FP}$\n",
        "\n",
        "Even if data is imbalanced, we can figure out that our model is working well or not. For that, **the values of TPR and TNR should be high, and FPR and FNR should be as low as possible.**\n"
      ],
      "metadata": {
        "id": "OZftyI5-SZA8"
      }
    },
    {
      "cell_type": "markdown",
      "source": [
        "**Precision**\n",
        "\n",
        "Out of all the positive predicted, what percentage is truly positive.\n",
        "\n",
        "$ Precision = \\frac{TP}{TP + FP} $\n",
        "\n",
        "The precision value lies between 0 and 1."
      ],
      "metadata": {
        "id": "NeuBMDzIU6nU"
      }
    },
    {
      "cell_type": "markdown",
      "source": [
        "**Recall**\n",
        "\n",
        "Out of the total positive, what percentage are predicted positive. It is the same as TPR (true positive rate).\n",
        "\n",
        "$ Recall = \\frac{TP}{TP + FN}$"
      ],
      "metadata": {
        "id": "VpRvUB8kVKc2"
      }
    },
    {
      "cell_type": "markdown",
      "source": [
        "**F1 Score**\n",
        "\n",
        "It is the harmonic mean of precision and recall. It takes both false positive and false negatives into account. Therefore, it performs well on an imbalanced dataset.\n",
        "\n",
        "$ F1 score = \\frac{2*(Precision * Recall)}{Precision + Recall} $"
      ],
      "metadata": {
        "id": "5lDBL9OHVrma"
      }
    },
    {
      "cell_type": "code",
      "source": [
        "# Confusion Matrix in Scikit-learn\n",
        "from sklearn.metrics import classification_report, confusion_matrix\n",
        "\n",
        "knn = KNeighborsClassifier(n_neighbors=7)\n",
        "X_train, X_test, y_train, y_test = \"Split the data\"\n",
        "\n",
        "knn.fit(X_train, y_train)\n",
        "pred = knn.predict(X_test)\n",
        "\n",
        "print(confustion_matrix(y_test, y_pred))\n",
        "print(classification_report(y_test, y_pred))"
      ],
      "metadata": {
        "id": "fpy7-Q7_TfXs"
      },
      "execution_count": null,
      "outputs": []
    },
    {
      "cell_type": "markdown",
      "source": [
        "# **Logistic Regression**"
      ],
      "metadata": {
        "id": "4DI3CoLXYDeh"
      }
    },
    {
      "cell_type": "code",
      "source": [
        "from sklearn.linear_model import LogisticRegression\n",
        "\n",
        "logreg = LogisticRegression()\n",
        "X_train, X_test, y_train, y_test = \"Split the data\"\n",
        "\n",
        "logreg.fit(X_train, y_train)\n",
        "pred = logreg.predict(X_test)\n",
        "\n",
        "# Predicting Probabilites\n",
        "y_pred_probs = logreg.predict_proba(X_test)[:, 1]\n",
        "print(y_pred_probs)"
      ],
      "metadata": {
        "id": "YJbsLE5lYGvl"
      },
      "execution_count": null,
      "outputs": []
    },
    {
      "cell_type": "markdown",
      "source": [
        "**Plotting the ROC curve**"
      ],
      "metadata": {
        "id": "XaJjhz2jY-TG"
      }
    },
    {
      "cell_type": "code",
      "source": [
        "from sklearn.metrics import roc_curve\n",
        "\n",
        "fpr, tpr, thresholds = roc_curve(y_test, y_pred_probs)\n",
        "\n",
        "plt.plot([0, 1], [0, 1], 'k--')\n",
        "plt.plot(fpr, tpr)\n",
        "plt.show()\n",
        "\n",
        "# ROC AUC in scikit-learn\n",
        "from sklearn.metrics import roc_auc_score\n",
        "print(roc_auc_score(y_test, y_pred_probs))"
      ],
      "metadata": {
        "id": "_RbU8Fj_ZBOZ"
      },
      "execution_count": null,
      "outputs": []
    },
    {
      "cell_type": "markdown",
      "source": [
        "# **Hyperparameter Tuning**\n",
        "- Hyperparameters: Parameters we specify before fitting the model\n",
        "  - Like alpha and n_neighbors"
      ],
      "metadata": {
        "id": "D-eQ6bMANCve"
      }
    },
    {
      "cell_type": "code",
      "source": [
        "from sklearn.model_selection import GridSearchCV\n",
        "\n",
        "kf = KFold(n_splits=5, shuffle=True, random_state=42)\n",
        "\n",
        "param_grid = {\"alpha\": np.arrange(0.0001, 1, 10), \"solver\": [\"sag\", \"lsqr\"]}\n",
        "\n",
        "ridge = Ridge()\n",
        "ridge_cv = GridSearchCV(ridge, param_grid, cv=kf)\n",
        "ridge_cv.fit(X_train, y_train)\n",
        "\n",
        "print(ridge_cv.best_params_, ridge_cv.best_score_)"
      ],
      "metadata": {
        "id": "PxVPMDj5NREa"
      },
      "execution_count": null,
      "outputs": []
    },
    {
      "cell_type": "markdown",
      "source": [
        "**Limitations and an alternative approach**\n",
        "- 3-fold cv, 1 hyperparameter, 10 total values = 30 fits\n",
        "- 10-fold cv, 3 hyperparameter, 30 total values = 900 fits"
      ],
      "metadata": {
        "id": "edQqXgnNOJfH"
      }
    },
    {
      "cell_type": "code",
      "source": [
        "from sklearn.model_selection import RandomizedSearchCV\n",
        "\n",
        "kf = KFold(n_splits=5, shuffle=True, random_state=42)\n",
        "\n",
        "param_grid = {\"alpha\": np.arrange(0.0001, 1, 10), \"solver\": [\"sag\", \"lsqr\"]}\n",
        "\n",
        "ridge = Ridge()\n",
        "\n",
        "# Total fit = n_splits * n_iter\n",
        "\n",
        "ridge_cv = RandomizedSearchCV(ridge, param_grid, cv=kf, n_iter=2)\n",
        "ridge_cv.fit(X_train, y_train)\n",
        "\n",
        "print(ridge_cv.best_params_, ridge_cv.best_score_)"
      ],
      "metadata": {
        "id": "VFWyBJ6XOY-l"
      },
      "execution_count": null,
      "outputs": []
    },
    {
      "cell_type": "markdown",
      "source": [
        "# **Dealing with categorical features**\n",
        "\n",
        "- scikit-learn will not accept categorical features by default\n",
        "- Need to convert categorical features into numeric values\n",
        "- Convert to binary features called dummy variables\n",
        "  - 0: Observation was not that category\n",
        "  - 1: Observation was that category"
      ],
      "metadata": {
        "id": "_GYR1z_ZRuCN"
      }
    },
    {
      "cell_type": "code",
      "source": [
        "# Encoding categorical variables\n",
        "import pandas as pd\n",
        "music_df = pd.read_csv('music_csv')\n",
        "music_dummies = pd.get_dummies(music_df['genre'], drop_first=True)\n",
        "\n",
        "music_dummies = pd.concat([music_df, music_dummies], axis=1)\n",
        "music_dummies = music_dummies.drop('genre', axis=1)\n",
        "\n",
        "\"\"\"\n",
        "If the DataFrame only has one categorical feature, we can pass the entire DataFrame, thus skipping the step of combining variables.\n",
        "If we don't specify a column, the new DataFrame's binary columns will have the original feature name prefixed\n",
        "The categorical column will be automatically dropped\n",
        "\"\"\"\n",
        "music_dummies = pd.get_dummies(music_df, drop_first=True)\n"
      ],
      "metadata": {
        "id": "uGInBcX6SU3h"
      },
      "execution_count": null,
      "outputs": []
    },
    {
      "cell_type": "markdown",
      "source": [
        "# **Handling Missing Data**\n",
        "- Drop missing data\n",
        "- Impute missing data\n",
        "\n",
        "**Imputing Values**\n",
        "- Imputation - use subject-matter expertise to replace missing data with educated guesses\n",
        "- Common to use mean\n",
        "- Can also use the median, or another value\n",
        "- For categorical values, we typically use the most frequent value - the mode\n",
        "- Must split our data first before imputing, to avoid data leakage"
      ],
      "metadata": {
        "id": "POT9otHUVfrG"
      }
    },
    {
      "cell_type": "code",
      "source": [
        "# Imputation with scikit-learn\n",
        "from sklearn.impute import SimpleImputer\n",
        "\n",
        "X_cat = music_df['genre'].values.reshape(-1, 1)\n",
        "X_num = music_df.drop(['genre', 'popularity'], axis=1).values\n",
        "y = music_df['popularity'].values\n",
        "\n",
        "X_train_cat, X_test_cat, y_train_cat, y_test_cat = test_train_split(X_cat, y, test_size=0.2, random_state=12)\n",
        "X_train_num, X_test_num, y_train_num, y_test_num = test_train_split(X_num, y, test_size=0.2, random_state=12)\n",
        "\n",
        "# Impute categorical variable\n",
        "imp_cat = SimpleImputer(strategy='most_frequent')\n",
        "X_train_cat = imp_cat.fit_transform(X_train_cat)\n",
        "X_test_cat = imp_cat.fit_transform(X_test_cat)\n",
        "\n",
        "# Impute numerical variable\n",
        "imp_num = SimpleImputer()\n",
        "X_train_num = imp_num.fit_transform(X_train_num)\n",
        "X_test_num = imp_num.fit_transform(X_test_num)\n",
        "\n",
        "# Combine both imputed data\n",
        "X_train = np.append(X_train_num, X_train_cat, axis=1)\n",
        "X_test = np.append(X_test_num, X_test_cat, axis=1)"
      ],
      "metadata": {
        "id": "Qi6OHyhpWQHA"
      },
      "execution_count": null,
      "outputs": []
    },
    {
      "cell_type": "markdown",
      "source": [
        "**Imputing with pipelines**\n",
        "\n",
        "We can also impute using a pipeline, which is an object used to run a series of transformations and build a model in a single workflow."
      ],
      "metadata": {
        "id": "q5AIPeNtYXQH"
      }
    },
    {
      "cell_type": "code",
      "source": [
        "from sklearn.pipeline import Pipeline\n",
        "\n",
        "music_df = music_df.dropna(subset=[\"genre\", 'popularity', 'loudness', 'liveness', 'tempo'])\n",
        "music_df['genre'] = np.where(music_df['genre'] == 'Rock', 1, 0)\n",
        "\n",
        "X = music_df.drop('genre', axis=1).values\n",
        "y = music_df['genre'].values\n",
        "\n",
        "steps = [('imputation', SimpleImputer()), (\"logistic_regression\", LogisticRegression())]\n",
        "\n",
        "pipeline = Pipeline(steps)\n",
        "\n",
        "X_train, X_test, y_train, y_test = \"Split the data\"\n",
        "\n",
        "pipeline.fit(X_train, y_train)"
      ],
      "metadata": {
        "id": "YdxIjQ_lYc9T"
      },
      "execution_count": null,
      "outputs": []
    },
    {
      "cell_type": "markdown",
      "source": [
        "# **Centering and Scaling**\n",
        "\n",
        "**Why scale our data?**\n",
        "- Many models use some form of distance to inform them\n",
        "- Features on larger scales can disproprtionately influence the model\n",
        "- Example: KNN uses distance explicitly when making predictions\n",
        "- We want features to be on similar scale\n",
        "- We can normalize or standardize our dataset.\n",
        "\n",
        "**How to scale our data**\n",
        "- Substract the mean and divide by variance\n",
        "  - All features are centered around zero and have a variance of one\n",
        "  - This is called standardization\n",
        "- Can also substract the minimum and divide by the range\n",
        "  - Minimim zero and maximum one\n",
        "- Can also normalize so the data ranges from -1 to +1."
      ],
      "metadata": {
        "id": "nH0uApgj40m2"
      }
    },
    {
      "cell_type": "code",
      "source": [
        " from sklearn.preprocessing import StandardScaler\n",
        "\n",
        " X = music_df.drop('genre', axis=1).values\n",
        " y = music_df['genre'].values\n",
        "\n",
        " X_train, X_test, y_train, y_test = \"Split the data\"\n",
        "\n",
        " scaler = StandardScaler()\n",
        " X_train_scaled = scaler.fit_transform(X_train)\n",
        " X_test_scaled = scaler.fit_transform(X_test)"
      ],
      "metadata": {
        "id": "h2XbdElP5xDj"
      },
      "execution_count": null,
      "outputs": []
    },
    {
      "cell_type": "markdown",
      "source": [
        "# **Evaluating Multiple Models**"
      ],
      "metadata": {
        "id": "O2iCcGm0cqQX"
      }
    },
    {
      "cell_type": "code",
      "source": [
        "import matplotlib.pyplot as plt\n",
        "from sklearn.preprocessing import StandardScaler\n",
        "from sklearn.model_selection import cross_val_score, KFold, train_test_split\n",
        "from sklearn.neighbors import KNeighborsClassifier\n",
        "from sklearn.linear_model import LogisticRegression\n",
        "from sklearn.tree import DecisionTreeClassifier\n",
        "import pandas as pd\n",
        "\n",
        "music = pd.read_csv('music_clean.csv')\n",
        "\n",
        "X = music.drop(\"genre\", axis=1).values\n",
        "y = music[\"genre\"].values\n",
        "\n",
        "X_train, X_test, y_train, y_test = train_test_split(X, y, random_state=42)\n",
        "\n",
        "scaler = StandardScaler()\n",
        "X_train_scaled = scaler.fit_transform(X_train)\n",
        "X_test_scaled = scaler.transform(X_test)\n",
        "\n",
        "models = {\"Logistic Regression\": LogisticRegression(), \"KNN\": KNeighborsClassifier(), \"Decision Tree\": DecisionTreeClassifier()}\n",
        "results = []\n",
        "\n",
        "for model in models.values():\n",
        "  kf = KFold(n_splits=6, random_state=42, shuffle=True)\n",
        "  cv_results = cross_val_score(model, X_train_scaled, y_train, cv=kf)\n",
        "  results.append(cv_results)\n",
        "\n",
        "plt.boxplot(results, labels=models.keys())\n",
        "plt.show()\n"
      ],
      "metadata": {
        "colab": {
          "base_uri": "https://localhost:8080/",
          "height": 430
        },
        "id": "eUJzaYZRcuoR",
        "outputId": "c5964a41-5e09-4679-f52d-8b4a3579fe20"
      },
      "execution_count": null,
      "outputs": [
        {
          "output_type": "display_data",
          "data": {
            "text/plain": [
              "<Figure size 640x480 with 1 Axes>"
            ],
            "image/png": "[encoded data removed]"
          },
          "metadata": {}
        }
      ]
    },
    {
      "cell_type": "markdown",
      "source": [
        "**Test set performance**"
      ],
      "metadata": {
        "id": "1nkYNcd4elsP"
      }
    },
    {
      "cell_type": "code",
      "source": [
        "for name, model in models.items():\n",
        "  model.fit(X_train_scaled, y_train)\n",
        "  test_score = model.score(X_test_scaled, y_test)\n",
        "  print(\"{} Test Set Accuracy: {}\".format(name, test_score))"
      ],
      "metadata": {
        "colab": {
          "base_uri": "https://localhost:8080/"
        },
        "id": "Cw1Mu-HAeoBj",
        "outputId": "79c0fb6a-28a6-4383-bbb9-e50854dd8ea3"
      },
      "execution_count": null,
      "outputs": [
        {
          "output_type": "stream",
          "name": "stdout",
          "text": [
            "Logistic Regression Test Set Accuracy: 0.864\n",
            "KNN Test Set Accuracy: 0.888\n",
            "Decision Tree Test Set Accuracy: 1.0\n"
          ]
        }
      ]
    }
  ]
}