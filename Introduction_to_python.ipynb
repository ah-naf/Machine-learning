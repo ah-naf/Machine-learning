{
  "nbformat": 4,
  "nbformat_minor": 0,
  "metadata": {
    "colab": {
      "provenance": []
    },
    "kernelspec": {
      "name": "python3",
      "display_name": "Python 3"
    },
    "language_info": {
      "name": "python"
    }
  },
  "cells": [
    {
      "cell_type": "markdown",
      "source": [
        "# **Iterators**"
      ],
      "metadata": {
        "id": "OG_QewDNC4Uo"
      }
    },
    {
      "cell_type": "markdown",
      "source": [
        "Iterable\n",
        "- List, string, dictionaries, file connections\n",
        "- An object with an associated iter() method\n",
        "- Applying iter() to an iterable creates an iterator\n",
        "\n",
        "Iterator\n",
        "- Produces next value with next()"
      ],
      "metadata": {
        "id": "e02t5QjomfiS"
      }
    },
    {
      "cell_type": "code",
      "source": [
        "word = \"Da\"\n",
        "it = iter(word) # Creates an iterable object\n",
        "print(next(it))\n",
        "print(next(it))\n",
        "# print(next(it)) # It will give an error cause it ha no next element\n",
        "it = iter(word)\n",
        "print(*it)"
      ],
      "metadata": {
        "id": "6TI_VoOyDHVI",
        "colab": {
          "base_uri": "https://localhost:8080/"
        },
        "outputId": "d6858662-ff30-4856-ba08-ce3df2be4ded"
      },
      "execution_count": null,
      "outputs": [
        {
          "output_type": "stream",
          "name": "stdout",
          "text": [
            "D\n",
            "a\n",
            "D a\n"
          ]
        }
      ]
    },
    {
      "cell_type": "markdown",
      "source": [
        "**Enumerate**"
      ],
      "metadata": {
        "id": "HLpapJmpnwpN"
      }
    },
    {
      "cell_type": "code",
      "source": [
        "avengers = [\"hawkeye\", 'iron man', 'thor', 'quicksilver']\n",
        "e = enumerate(avengers)\n",
        "print(type(e))\n",
        "\n",
        "e_list = list(e)\n",
        "print(e_list)\n",
        "\n",
        "for index, value in enumerate(avengers, start=10):\n",
        "  print(index, value)"
      ],
      "metadata": {
        "colab": {
          "base_uri": "https://localhost:8080/"
        },
        "id": "SCMSFTapnyk5",
        "outputId": "0cabaea2-e473-403f-b046-5c542f954834"
      },
      "execution_count": null,
      "outputs": [
        {
          "output_type": "stream",
          "name": "stdout",
          "text": [
            "<class 'enumerate'>\n",
            "[(0, 'hawkeye'), (1, 'iron man'), (2, 'thor'), (3, 'quicksilver')]\n",
            "10 hawkeye\n",
            "11 iron man\n",
            "12 thor\n",
            "13 quicksilver\n"
          ]
        }
      ]
    },
    {
      "cell_type": "markdown",
      "source": [
        "**ZIP**"
      ],
      "metadata": {
        "id": "SCNWP0YNoLJW"
      }
    },
    {
      "cell_type": "code",
      "source": [
        "avengers = [\"hawkeye\", 'iron man', 'thor', 'quicksilver']\n",
        "names = ['barton', 'stark', 'odinson', 'maximoff']\n",
        "z = zip(avengers, names)\n",
        "print(type(z))\n",
        "\n",
        "z_list = list(z)\n",
        "print(z_list)\n",
        "\n",
        "for z1, z2 in z:\n",
        "  print(z1, z2)\n",
        "\n",
        "z = zip(avengers, names)\n",
        "print(*z)"
      ],
      "metadata": {
        "colab": {
          "base_uri": "https://localhost:8080/"
        },
        "id": "-FWqmFZYoMUo",
        "outputId": "e7571f89-4799-4030-f6c2-5ac8e51f27f0"
      },
      "execution_count": null,
      "outputs": [
        {
          "output_type": "stream",
          "name": "stdout",
          "text": [
            "<class 'zip'>\n",
            "[('hawkeye', 'barton'), ('iron man', 'stark'), ('thor', 'odinson'), ('quicksilver', 'maximoff')]\n",
            "('hawkeye', 'barton') ('iron man', 'stark') ('thor', 'odinson') ('quicksilver', 'maximoff')\n"
          ]
        }
      ]
    },
    {
      "cell_type": "markdown",
      "source": [
        "**Using iterator to load large file**"
      ],
      "metadata": {
        "id": "JCdE7aCKo1CX"
      }
    },
    {
      "cell_type": "code",
      "source": [
        "import pandas as pd\n",
        "\n",
        "# Define count_entries()\n",
        "def count_entries(csv_file, c_size, colname):\n",
        "    \"\"\"Return a dictionary with counts of\n",
        "    occurrences as value for each key.\"\"\"\n",
        "\n",
        "    # Initialize an empty dictionary: counts_dict\n",
        "    counts_dict = {}\n",
        "\n",
        "    # Iterate over the file chunk by chunk\n",
        "    for chunk in pd.read_csv(csv_file,chunksize=c_size):\n",
        "\n",
        "        # Iterate over the column in DataFrame\n",
        "        for entry in chunk[colname]:\n",
        "            if entry in counts_dict.keys():\n",
        "                counts_dict[entry] += 1\n",
        "            else:\n",
        "                counts_dict[entry] = 1\n",
        "\n",
        "    # Return counts_dict\n",
        "    return counts_dict\n",
        "\n",
        "# Call count_entries(): result_counts\n",
        "result_counts = count_entries('tweets.csv', 10, 'lang')\n",
        "\n",
        "# Print result_counts\n",
        "print(result_counts)\n"
      ],
      "metadata": {
        "id": "GMVR8mqQo4mz"
      },
      "execution_count": null,
      "outputs": []
    },
    {
      "cell_type": "markdown",
      "source": [
        "# **List Comprehenstion and Generator**"
      ],
      "metadata": {
        "id": "3qoizvd9pRbi"
      }
    },
    {
      "cell_type": "markdown",
      "source": [
        "**List Comprehension**"
      ],
      "metadata": {
        "id": "iFUEbSQypVY4"
      }
    },
    {
      "cell_type": "code",
      "source": [
        "nums = [2, 3, 4, 5]\n",
        "new_nums = []\n",
        "\n",
        "for num in nums:\n",
        "  new_nums.append(num + 1)\n",
        "\n",
        "print(new_nums)\n",
        "\n",
        "new_nums = [num + 1 for num in nums]\n",
        "print(new_nums)\n",
        "\n",
        "pairs_1 = []\n",
        "\n",
        "for num1 in range(0, 2):\n",
        "  for num2 in range(5, 6):\n",
        "    pairs_1.append((num1, num2))\n",
        "print(pairs_1)\n",
        "\n",
        "pairs_1 = [(num1, num2) for num1 in range(0, 2) for num2 in range(5, 6)]\n",
        "\n",
        "print(pairs_1)\n",
        "\n",
        "# Create list comprehension: squares\n",
        "squares = [i ** 2 for i in range(0,10)]\n",
        "print(squares)\n",
        "\n",
        "# Create a 5 x 5 matrix using a list of lists: matrix\n",
        "matrix = [[col for col in range(0, 5)] for i in range(0, 5)]\n",
        "\n",
        "# Conditionals on the iterable\n",
        "sq = [num ** 2 for num in range(10) if num % 2 == 0]\n",
        "print(sq)\n",
        "\n",
        "# Conditionals on output expression\n",
        "sq = [num ** 2  if num % 2 == 0 else 0 for num in range(10)]\n",
        "print(sq)\n",
        "\n",
        "# Dict comprehensions\n",
        "pos_neg = {num: -num for num in range(9)}\n",
        "print(pos_neg)\n",
        "\n"
      ],
      "metadata": {
        "colab": {
          "base_uri": "https://localhost:8080/"
        },
        "id": "d665Wd94pfJf",
        "outputId": "25f163e4-dde2-46d8-c469-ba4e01864692"
      },
      "execution_count": null,
      "outputs": [
        {
          "output_type": "stream",
          "name": "stdout",
          "text": [
            "[3, 4, 5, 6]\n",
            "[3, 4, 5, 6]\n",
            "[(0, 5), (1, 5)]\n",
            "[(0, 5), (1, 5)]\n",
            "[0, 1, 4, 9, 16, 25, 36, 49, 64, 81]\n",
            "[0, 4, 16, 36, 64]\n",
            "[0, 0, 4, 0, 16, 0, 36, 0, 64, 0]\n"
          ]
        }
      ]
    },
    {
      "cell_type": "code",
      "source": [
        "# Create a list of strings: fellowship\n",
        "fellowship = ['frodo', 'samwise', 'merry', 'aragorn', 'legolas', 'boromir', 'gimli']\n",
        "\n",
        "# Create list comprehension: new_fellowship\n",
        "new_fellowship = [member for member in fellowship if len(member) >= 7]\n",
        "\n",
        "# Print the new list\n",
        "print(new_fellowship)"
      ],
      "metadata": {
        "id": "U5C0LoTbt8kO"
      },
      "execution_count": null,
      "outputs": []
    },
    {
      "cell_type": "code",
      "source": [
        "# Create a list of strings: fellowship\n",
        "fellowship = ['frodo', 'samwise', 'merry', 'aragorn', 'legolas', 'boromir', 'gimli']\n",
        "\n",
        "# Create list comprehension: new_fellowship\n",
        "new_fellowship = [member if len(member) >= 7 else '' for member in fellowship]\n",
        "\n",
        "# Print the new list\n",
        "print(new_fellowship)\n"
      ],
      "metadata": {
        "id": "UMHW-aj3t9ki"
      },
      "execution_count": null,
      "outputs": []
    },
    {
      "cell_type": "code",
      "source": [
        "# Create a list of strings: fellowship\n",
        "fellowship = ['frodo', 'samwise', 'merry', 'aragorn', 'legolas', 'boromir', 'gimli']\n",
        "\n",
        "# Create dict comprehension: new_fellowship\n",
        "new_fellowship = {member: len(member) for member in fellowship}\n",
        "\n",
        "# Print the new dictionary\n",
        "print(new_fellowship)\n"
      ],
      "metadata": {
        "id": "m9UdtWLmuGc0"
      },
      "execution_count": null,
      "outputs": []
    },
    {
      "cell_type": "markdown",
      "source": [
        "**Generators**"
      ],
      "metadata": {
        "id": "kPl7fc8xuJs7"
      }
    },
    {
      "cell_type": "markdown",
      "source": [
        "- List comprehension - returns a list\n",
        "- Generators - returns a generator object\n",
        "- Both can be iterated over"
      ],
      "metadata": {
        "id": "D_kkBLf_udW_"
      }
    },
    {
      "cell_type": "code",
      "source": [
        "result = (num for num in range(6))\n",
        "for num in result:\n",
        "  print(num)\n",
        "\n",
        "result = (num for num in range(6))\n",
        "print(list(result))\n",
        "\n",
        "result = (num for num in range(6))\n",
        "print(next(result))\n",
        "print(next(result))"
      ],
      "metadata": {
        "colab": {
          "base_uri": "https://localhost:8080/"
        },
        "id": "wMQk-k6luLSD",
        "outputId": "759b6690-3022-4307-ebf9-7a705f91ee11"
      },
      "execution_count": null,
      "outputs": [
        {
          "output_type": "stream",
          "name": "stdout",
          "text": [
            "0\n",
            "1\n",
            "2\n",
            "3\n",
            "4\n",
            "5\n",
            "[0, 1, 2, 3, 4, 5]\n",
            "0\n",
            "1\n"
          ]
        }
      ]
    },
    {
      "cell_type": "code",
      "source": [
        "def num_sequence(n):\n",
        "  i = 0\n",
        "  while i<n:\n",
        "    yield i\n",
        "    i += 1\n",
        "\n",
        "# Works like iterator\n",
        "result = num_sequence(5)\n",
        "print(type(result))\n",
        "print(*result)"
      ],
      "metadata": {
        "colab": {
          "base_uri": "https://localhost:8080/"
        },
        "id": "fmkCd2klvaa9",
        "outputId": "032d188c-30a4-4745-cd1d-12cd0f0d6444"
      },
      "execution_count": null,
      "outputs": [
        {
          "output_type": "stream",
          "name": "stdout",
          "text": [
            "<class 'generator'>\n",
            "0 1 2 3 4\n"
          ]
        }
      ]
    },
    {
      "cell_type": "code",
      "source": [
        "# Define read_large_file()\n",
        "def read_large_file(file_object):\n",
        "    \"\"\"A generator function to read a large file lazily.\"\"\"\n",
        "\n",
        "    # Loop indefinitely until the end of the file\n",
        "    while True:\n",
        "\n",
        "        # Read a line from the file: data\n",
        "        data = file_object.readline()\n",
        "\n",
        "        # Break if this is the end of the file\n",
        "        if not data:\n",
        "            break\n",
        "\n",
        "        # Yield the line of data\n",
        "        yield data\n",
        "\n",
        "# Open a connection to the file\n",
        "with open('world_dev_ind.csv') as file:\n",
        "\n",
        "    # Create a generator object for the file: gen_file\n",
        "    gen_file = read_large_file(file)\n",
        "\n",
        "    # Print the first three lines of the file\n",
        "    print(next(gen_file))\n",
        "    print(next(gen_file))\n",
        "    print(next(gen_file))"
      ],
      "metadata": {
        "id": "XPVDllxx6lNK"
      },
      "execution_count": null,
      "outputs": []
    }
  ]
}